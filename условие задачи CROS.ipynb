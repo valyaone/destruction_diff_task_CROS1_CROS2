{
 "cells": [
  {
   "cell_type": "markdown",
   "metadata": {},
   "source": [
    "## Условие задачи\n",
    "\n",
    "Используя схемы CROS1 и CROS2, решить задачу:\n",
    "\n",
    "$\\left\\{\\begin{aligned}\n",
    "\\varepsilon \\frac{d u}{d t} = u (t - u), ~ -1 < t \\leq 2\\\\\n",
    "u(-1)= 3                                   \\\\\n",
    "\\end{aligned}\\\\\n",
    "\\right. $\n",
    "\n",
    "Подобрать параметры таким образом, чтобы CROS2 разрушилась, а CROS1 нет."
   ]
  },
  {
   "cell_type": "code",
   "execution_count": null,
   "metadata": {},
   "outputs": [],
   "source": []
  }
 ],
 "metadata": {
  "kernelspec": {
   "display_name": "Python 3",
   "language": "python",
   "name": "python3"
  },
  "language_info": {
   "codemirror_mode": {
    "name": "ipython",
    "version": 3
   },
   "file_extension": ".py",
   "mimetype": "text/x-python",
   "name": "python",
   "nbconvert_exporter": "python",
   "pygments_lexer": "ipython3",
   "version": "3.7.4"
  }
 },
 "nbformat": 4,
 "nbformat_minor": 4
}
